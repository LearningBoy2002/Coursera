{
  "nbformat": 4,
  "nbformat_minor": 0,
  "metadata": {
    "colab": {
      "provenance": []
    },
    "kernelspec": {
      "name": "python3",
      "display_name": "Python 3"
    },
    "language_info": {
      "name": "python"
    }
  },
  "cells": [
    {
      "cell_type": "markdown",
      "source": [
        "# **Data Science Tools and Ecosystem**"
      ],
      "metadata": {
        "id": "f5bDudwuh8CE"
      }
    },
    {
      "cell_type": "markdown",
      "source": [
        "In this notebook, Data Science Tools and Ecosystem are summarized."
      ],
      "metadata": {
        "id": "GYrTqeWJiy9j"
      }
    },
    {
      "cell_type": "markdown",
      "source": [
        "Some of the popular languages that Data Scientists use are:\n",
        "\n",
        "\n",
        "\n",
        "1.   Python\n",
        "2.   R\n",
        "3.   java\n",
        "4.   C++\n",
        "\n"
      ],
      "metadata": {
        "id": "HiBrC4m2jGYl"
      }
    },
    {
      "cell_type": "markdown",
      "source": [
        "Some of the commonly used libraries used by Data Scientists include:\n",
        "\n",
        "\n",
        "\n",
        "1.   Scikit Learn\n",
        "1.   Keras\n",
        "2.   tensorflow\n",
        "2.   Pytorch\n"
      ],
      "metadata": {
        "id": "8yZkUOMRjjpj"
      }
    },
    {
      "cell_type": "markdown",
      "source": [
        "|Data Science Tools|\n",
        "|---|\n",
        "|SAS|\n",
        "|Apache Hadoop|\n",
        "|TensorFlow|\n",
        "|Pytorch|"
      ],
      "metadata": {
        "id": "pnOW9-w_kIHk"
      }
    },
    {
      "cell_type": "markdown",
      "source": [
        "###Below are a few examples of evaluating arithmetic expressions in Python"
      ],
      "metadata": {
        "id": "dmycXZslk7U9"
      }
    },
    {
      "cell_type": "code",
      "execution_count": 1,
      "metadata": {
        "colab": {
          "base_uri": "https://localhost:8080/"
        },
        "id": "ibfLKa2WhpSF",
        "outputId": "f2fa0b11-852d-4beb-ab0d-b0bdacc281a0"
      },
      "outputs": [
        {
          "output_type": "execute_result",
          "data": {
            "text/plain": [
              "17"
            ]
          },
          "metadata": {},
          "execution_count": 1
        }
      ],
      "source": [
        "#This a simple arithmetic expression to mutiply then add integers\n",
        "\n",
        "(3*4)+5"
      ]
    },
    {
      "cell_type": "code",
      "source": [
        "#This will convert 200 minutes to hours by diving by 60\n",
        "\n",
        "200/60"
      ],
      "metadata": {
        "colab": {
          "base_uri": "https://localhost:8080/"
        },
        "id": "W51wOCN3lbRu",
        "outputId": "61f8aaa1-d4b6-431a-e970-ddf8a7eb4a1f"
      },
      "execution_count": 3,
      "outputs": [
        {
          "output_type": "execute_result",
          "data": {
            "text/plain": [
              "3.3333333333333335"
            ]
          },
          "metadata": {},
          "execution_count": 3
        }
      ]
    },
    {
      "cell_type": "markdown",
      "source": [
        "__Objective__\n",
        "\n",
        "\n",
        "*   List popular languages for Data Science\n",
        "*   List popular libaries for Data Science\n",
        "\n",
        "*   List of popular DataScience Tools\n",
        "\n",
        "\n",
        "*   Commenting in a cell\n",
        "\n",
        "\n",
        "\n",
        "\n",
        "\n",
        "\n"
      ],
      "metadata": {
        "id": "leXo8Z6tmPfL"
      }
    },
    {
      "cell_type": "markdown",
      "source": [
        "##Author\n",
        "Bishwarup"
      ],
      "metadata": {
        "id": "xz5HxteJm5sK"
      }
    },
    {
      "cell_type": "code",
      "source": [],
      "metadata": {
        "id": "wKbm6u2zl4QV"
      },
      "execution_count": null,
      "outputs": []
    }
  ]
}